{
 "cells": [
  {
   "cell_type": "code",
   "execution_count": 2,
   "id": "c2db234c",
   "metadata": {},
   "outputs": [],
   "source": [
    "#import all my packages\n",
    "import os\n",
    "import pandas as pd\n",
    "import numpy as np\n",
    "import seaborn as sns\n",
    "import matplotlib.pyplot as plt"
   ]
  },
  {
   "cell_type": "code",
   "execution_count": 3,
   "id": "5dccb937",
   "metadata": {},
   "outputs": [
    {
     "data": {
      "image/png": "[encoded data removed]",
      "text/plain": [
       "<Figure size 432x288 with 1 Axes>"
      ]
     },
     "metadata": {
      "needs_background": "light"
     },
     "output_type": "display_data"
    }
   ],
   "source": [
    "#inital graph work cleared\n",
    "%matplotlib inline\n",
    "fig,ax = plt.subplots()\n",
    "plt.show()"
   ]
  },
  {
   "cell_type": "code",
   "execution_count": 4,
   "id": "d73e4cc3",
   "metadata": {},
   "outputs": [
    {
     "data": {
      "text/plain": [
       "'C:\\\\Users\\\\35386\\\\OneDrive\\\\Desktop\\\\UCD - DATA ANALYTICS\\\\Assessment\\\\Raw Data\\\\Data Test'"
      ]
     },
     "execution_count": 4,
     "metadata": {},
     "output_type": "execute_result"
    }
   ],
   "source": [
    "#check and assign my working directory\n",
    "os.getcwd()\n",
    "os.chdir(r'C:\\Users\\35386\\OneDrive\\Desktop\\UCD - DATA ANALYTICS\\Assessment\\Raw Data\\Data Test')\n",
    "os.getcwd()"
   ]
  },
  {
   "cell_type": "code",
   "execution_count": 5,
   "id": "8c9b84f5",
   "metadata": {},
   "outputs": [],
   "source": [
    "#import datasets, name as raw.\n",
    "Episodes_Raw = pd.read_csv(\"brooklyn99_episodes.csv\")"
   ]
  },
  {
   "cell_type": "code",
   "execution_count": 6,
   "id": "c4cb312f",
   "metadata": {},
   "outputs": [
    {
     "data": {
      "text/html": [
       "<div>\n",
       "<style scoped>\n",
       "    .dataframe tbody tr th:only-of-type {\n",
       "        vertical-align: middle;\n",
       "    }\n",
       "\n",
       "    .dataframe tbody tr th {\n",
       "        vertical-align: top;\n",
       "    }\n",
       "\n",
       "    .dataframe thead th {\n",
       "        text-align: right;\n",
       "    }\n",
       "</style>\n",
       "<table border=\"1\" class=\"dataframe\">\n",
       "  <thead>\n",
       "    <tr style=\"text-align: right;\">\n",
       "      <th></th>\n",
       "      <th>season</th>\n",
       "      <th>episode_num_in_season</th>\n",
       "      <th>episode_num_overall</th>\n",
       "      <th>title</th>\n",
       "      <th>directed_by</th>\n",
       "      <th>written_by</th>\n",
       "      <th>original_air_date</th>\n",
       "      <th>prod_code</th>\n",
       "      <th>us_viewers</th>\n",
       "    </tr>\n",
       "  </thead>\n",
       "  <tbody>\n",
       "    <tr>\n",
       "      <th>0</th>\n",
       "      <td>1</td>\n",
       "      <td>1</td>\n",
       "      <td>1</td>\n",
       "      <td>Pilot</td>\n",
       "      <td>Phil Lord &amp; Christopher Miller</td>\n",
       "      <td>Dan Goor &amp; Michael Schur</td>\n",
       "      <td>2013-09-17</td>\n",
       "      <td>101.0</td>\n",
       "      <td>6170000.0</td>\n",
       "    </tr>\n",
       "    <tr>\n",
       "      <th>1</th>\n",
       "      <td>1</td>\n",
       "      <td>2</td>\n",
       "      <td>2</td>\n",
       "      <td>The Tagger</td>\n",
       "      <td>Craig Zisk</td>\n",
       "      <td>Norm Hiscock</td>\n",
       "      <td>2013-09-24</td>\n",
       "      <td>102.0</td>\n",
       "      <td>4030000.0</td>\n",
       "    </tr>\n",
       "    <tr>\n",
       "      <th>2</th>\n",
       "      <td>1</td>\n",
       "      <td>3</td>\n",
       "      <td>3</td>\n",
       "      <td>The Slump</td>\n",
       "      <td>Julie Anne Robinson</td>\n",
       "      <td>Prentice Penny</td>\n",
       "      <td>2013-10-01</td>\n",
       "      <td>105.0</td>\n",
       "      <td>3430000.0</td>\n",
       "    </tr>\n",
       "    <tr>\n",
       "      <th>3</th>\n",
       "      <td>1</td>\n",
       "      <td>4</td>\n",
       "      <td>4</td>\n",
       "      <td>M.E. Time</td>\n",
       "      <td>Troy Miller</td>\n",
       "      <td>Gil Ozeri</td>\n",
       "      <td>2013-10-08</td>\n",
       "      <td>106.0</td>\n",
       "      <td>3340000.0</td>\n",
       "    </tr>\n",
       "    <tr>\n",
       "      <th>4</th>\n",
       "      <td>1</td>\n",
       "      <td>5</td>\n",
       "      <td>5</td>\n",
       "      <td>The Vulture</td>\n",
       "      <td>Jason Ensler</td>\n",
       "      <td>Laura McCreary</td>\n",
       "      <td>2013-10-15</td>\n",
       "      <td>104.0</td>\n",
       "      <td>3430000.0</td>\n",
       "    </tr>\n",
       "  </tbody>\n",
       "</table>\n",
       "</div>"
      ],
      "text/plain": [
       "   season  episode_num_in_season  episode_num_overall        title  \\\n",
       "0       1                      1                    1        Pilot   \n",
       "1       1                      2                    2   The Tagger   \n",
       "2       1                      3                    3    The Slump   \n",
       "3       1                      4                    4    M.E. Time   \n",
       "4       1                      5                    5  The Vulture   \n",
       "\n",
       "                      directed_by                written_by original_air_date  \\\n",
       "0  Phil Lord & Christopher Miller  Dan Goor & Michael Schur        2013-09-17   \n",
       "1                      Craig Zisk              Norm Hiscock        2013-09-24   \n",
       "2             Julie Anne Robinson            Prentice Penny        2013-10-01   \n",
       "3                     Troy Miller                 Gil Ozeri        2013-10-08   \n",
       "4                    Jason Ensler            Laura McCreary        2013-10-15   \n",
       "\n",
       "   prod_code  us_viewers  \n",
       "0      101.0   6170000.0  \n",
       "1      102.0   4030000.0  \n",
       "2      105.0   3430000.0  \n",
       "3      106.0   3340000.0  \n",
       "4      104.0   3430000.0  "
      ]
     },
     "execution_count": 6,
     "metadata": {},
     "output_type": "execute_result"
    }
   ],
   "source": [
    "#intial summary of data - column names\n",
    "Episodes_Raw.head()"
   ]
  },
  {
   "cell_type": "code",
   "execution_count": 7,
   "id": "17276efa",
   "metadata": {},
   "outputs": [
    {
     "data": {
      "text/plain": [
       "(153, 9)"
      ]
     },
     "execution_count": 7,
     "metadata": {},
     "output_type": "execute_result"
    }
   ],
   "source": [
    "#summary of data - shape\n",
    "Episodes_Raw.shape"
   ]
  },
  {
   "cell_type": "code",
   "execution_count": 8,
   "id": "c57c4714",
   "metadata": {},
   "outputs": [
    {
     "data": {
      "text/plain": [
       "season                     int64\n",
       "episode_num_in_season      int64\n",
       "episode_num_overall        int64\n",
       "title                     object\n",
       "directed_by               object\n",
       "written_by                object\n",
       "original_air_date         object\n",
       "prod_code                float64\n",
       "us_viewers               float64\n",
       "dtype: object"
      ]
     },
     "execution_count": 8,
     "metadata": {},
     "output_type": "execute_result"
    }
   ],
   "source": [
    "#summary of data - type of each column\n",
    "Episodes_Raw.dtypes"
   ]
  },
  {
   "cell_type": "code",
   "execution_count": 9,
   "id": "428584c3",
   "metadata": {},
   "outputs": [
    {
     "data": {
      "text/plain": [
       "season                   0\n",
       "episode_num_in_season    0\n",
       "episode_num_overall      0\n",
       "title                    0\n",
       "directed_by              0\n",
       "written_by               0\n",
       "original_air_date        0\n",
       "prod_code                0\n",
       "us_viewers               0\n",
       "dtype: int64"
      ]
     },
     "execution_count": 9,
     "metadata": {},
     "output_type": "execute_result"
    }
   ],
   "source": [
    "#summary of data - are the null values\n",
    "Episodes_Raw.isnull().sum()"
   ]
  },
  {
   "cell_type": "code",
   "execution_count": 10,
   "id": "535fd933",
   "metadata": {},
   "outputs": [
    {
     "data": {
      "text/plain": [
       "season\n",
       "1    22\n",
       "2    23\n",
       "3    23\n",
       "4    22\n",
       "5    22\n",
       "6    18\n",
       "7    13\n",
       "8    10\n",
       "Name: episode_num_in_season, dtype: int64"
      ]
     },
     "execution_count": 10,
     "metadata": {},
     "output_type": "execute_result"
    }
   ],
   "source": [
    "#We will be comparing seasons, so it is relevant to look at the size of each season, to see if they are comparable\n",
    "Episodes_Raw.groupby(['season']).count()['episode_num_in_season']"
   ]
  },
  {
   "cell_type": "code",
   "execution_count": 11,
   "id": "232a9362",
   "metadata": {},
   "outputs": [],
   "source": [
    "#import second dataset\n",
    "IMDB_Raw = pd.read_csv(\"brooklyn99_imdb.csv\")"
   ]
  },
  {
   "cell_type": "code",
   "execution_count": 12,
   "id": "d4b8e879",
   "metadata": {},
   "outputs": [
    {
     "data": {
      "text/html": [
       "<div>\n",
       "<style scoped>\n",
       "    .dataframe tbody tr th:only-of-type {\n",
       "        vertical-align: middle;\n",
       "    }\n",
       "\n",
       "    .dataframe tbody tr th {\n",
       "        vertical-align: top;\n",
       "    }\n",
       "\n",
       "    .dataframe thead th {\n",
       "        text-align: right;\n",
       "    }\n",
       "</style>\n",
       "<table border=\"1\" class=\"dataframe\">\n",
       "  <thead>\n",
       "    <tr style=\"text-align: right;\">\n",
       "      <th></th>\n",
       "      <th>season</th>\n",
       "      <th>episode_num</th>\n",
       "      <th>title</th>\n",
       "      <th>original_air_date</th>\n",
       "      <th>imdb_rating</th>\n",
       "      <th>total_votes</th>\n",
       "      <th>desc</th>\n",
       "    </tr>\n",
       "  </thead>\n",
       "  <tbody>\n",
       "    <tr>\n",
       "      <th>0</th>\n",
       "      <td>1</td>\n",
       "      <td>1</td>\n",
       "      <td>Pilot</td>\n",
       "      <td>17 Sep. 2013</td>\n",
       "      <td>7.8</td>\n",
       "      <td>4678</td>\n",
       "      <td>Detective Jake Peralta finds his work scrutini...</td>\n",
       "    </tr>\n",
       "    <tr>\n",
       "      <th>1</th>\n",
       "      <td>1</td>\n",
       "      <td>2</td>\n",
       "      <td>The Tagger</td>\n",
       "      <td>24 Sep. 2013</td>\n",
       "      <td>7.5</td>\n",
       "      <td>3818</td>\n",
       "      <td>When Jake arrives late for work, Captain Holt ...</td>\n",
       "    </tr>\n",
       "    <tr>\n",
       "      <th>2</th>\n",
       "      <td>1</td>\n",
       "      <td>3</td>\n",
       "      <td>The Slump</td>\n",
       "      <td>1 Oct. 2013</td>\n",
       "      <td>7.6</td>\n",
       "      <td>3576</td>\n",
       "      <td>With a backlog of unsolved cases, Jake finds h...</td>\n",
       "    </tr>\n",
       "    <tr>\n",
       "      <th>3</th>\n",
       "      <td>1</td>\n",
       "      <td>4</td>\n",
       "      <td>M.E. Time</td>\n",
       "      <td>8 Oct. 2013</td>\n",
       "      <td>7.7</td>\n",
       "      <td>3458</td>\n",
       "      <td>Jake meets an attractive Medical Examiner, but...</td>\n",
       "    </tr>\n",
       "    <tr>\n",
       "      <th>4</th>\n",
       "      <td>1</td>\n",
       "      <td>5</td>\n",
       "      <td>The Vulture</td>\n",
       "      <td>15 Oct. 2013</td>\n",
       "      <td>8.0</td>\n",
       "      <td>3353</td>\n",
       "      <td>A detective from Major Crimes takes over Jake'...</td>\n",
       "    </tr>\n",
       "  </tbody>\n",
       "</table>\n",
       "</div>"
      ],
      "text/plain": [
       "   season  episode_num        title original_air_date  imdb_rating  \\\n",
       "0       1            1        Pilot      17 Sep. 2013          7.8   \n",
       "1       1            2   The Tagger      24 Sep. 2013          7.5   \n",
       "2       1            3    The Slump       1 Oct. 2013          7.6   \n",
       "3       1            4    M.E. Time       8 Oct. 2013          7.7   \n",
       "4       1            5  The Vulture      15 Oct. 2013          8.0   \n",
       "\n",
       "   total_votes                                               desc  \n",
       "0         4678  Detective Jake Peralta finds his work scrutini...  \n",
       "1         3818  When Jake arrives late for work, Captain Holt ...  \n",
       "2         3576  With a backlog of unsolved cases, Jake finds h...  \n",
       "3         3458  Jake meets an attractive Medical Examiner, but...  \n",
       "4         3353  A detective from Major Crimes takes over Jake'...  "
      ]
     },
     "execution_count": 12,
     "metadata": {},
     "output_type": "execute_result"
    }
   ],
   "source": [
    "#intial summary of data - column names\n",
    "IMDB_Raw.head()"
   ]
  },
  {
   "cell_type": "code",
   "execution_count": 13,
   "id": "cda5a7fd",
   "metadata": {},
   "outputs": [
    {
     "data": {
      "text/plain": [
       "(153, 7)"
      ]
     },
     "execution_count": 13,
     "metadata": {},
     "output_type": "execute_result"
    }
   ],
   "source": [
    "#summary of data - shape\n",
    "IMDB_Raw.shape"
   ]
  },
  {
   "cell_type": "code",
   "execution_count": 14,
   "id": "d2c7f7b0",
   "metadata": {},
   "outputs": [
    {
     "data": {
      "text/plain": [
       "season                 int64\n",
       "episode_num            int64\n",
       "title                 object\n",
       "original_air_date     object\n",
       "imdb_rating          float64\n",
       "total_votes            int64\n",
       "desc                  object\n",
       "dtype: object"
      ]
     },
     "execution_count": 14,
     "metadata": {},
     "output_type": "execute_result"
    }
   ],
   "source": [
    "#summary of data - type of each column\n",
    "IMDB_Raw.dtypes"
   ]
  },
  {
   "cell_type": "code",
   "execution_count": 15,
   "id": "65490387",
   "metadata": {},
   "outputs": [
    {
     "data": {
      "text/plain": [
       "season                   0\n",
       "episode_num_in_season    0\n",
       "episode_num_overall      0\n",
       "title                    0\n",
       "directed_by              0\n",
       "written_by               0\n",
       "original_air_date        0\n",
       "prod_code                0\n",
       "us_viewers               0\n",
       "dtype: int64"
      ]
     },
     "execution_count": 15,
     "metadata": {},
     "output_type": "execute_result"
    }
   ],
   "source": [
    "#summary of data - are the null values\n",
    "Episodes_Raw.isnull().sum()"
   ]
  },
  {
   "cell_type": "code",
   "execution_count": 16,
   "id": "a497d05e",
   "metadata": {},
   "outputs": [
    {
     "data": {
      "text/html": [
       "<div>\n",
       "<style scoped>\n",
       "    .dataframe tbody tr th:only-of-type {\n",
       "        vertical-align: middle;\n",
       "    }\n",
       "\n",
       "    .dataframe tbody tr th {\n",
       "        vertical-align: top;\n",
       "    }\n",
       "\n",
       "    .dataframe thead th {\n",
       "        text-align: right;\n",
       "    }\n",
       "</style>\n",
       "<table border=\"1\" class=\"dataframe\">\n",
       "  <thead>\n",
       "    <tr style=\"text-align: right;\">\n",
       "      <th></th>\n",
       "      <th>season_x</th>\n",
       "      <th>episode_num</th>\n",
       "      <th>title_x</th>\n",
       "      <th>original_air_date_x</th>\n",
       "      <th>imdb_rating</th>\n",
       "      <th>total_votes</th>\n",
       "      <th>desc</th>\n",
       "      <th>season_y</th>\n",
       "      <th>episode_num_in_season</th>\n",
       "      <th>episode_num_overall</th>\n",
       "      <th>title_y</th>\n",
       "      <th>directed_by</th>\n",
       "      <th>written_by</th>\n",
       "      <th>original_air_date_y</th>\n",
       "      <th>prod_code</th>\n",
       "      <th>us_viewers</th>\n",
       "    </tr>\n",
       "  </thead>\n",
       "  <tbody>\n",
       "    <tr>\n",
       "      <th>0</th>\n",
       "      <td>1</td>\n",
       "      <td>1</td>\n",
       "      <td>Pilot</td>\n",
       "      <td>17 Sep. 2013</td>\n",
       "      <td>7.8</td>\n",
       "      <td>4678</td>\n",
       "      <td>Detective Jake Peralta finds his work scrutini...</td>\n",
       "      <td>1</td>\n",
       "      <td>1</td>\n",
       "      <td>1</td>\n",
       "      <td>Pilot</td>\n",
       "      <td>Phil Lord &amp; Christopher Miller</td>\n",
       "      <td>Dan Goor &amp; Michael Schur</td>\n",
       "      <td>2013-09-17</td>\n",
       "      <td>101.0</td>\n",
       "      <td>6170000.0</td>\n",
       "    </tr>\n",
       "    <tr>\n",
       "      <th>1</th>\n",
       "      <td>1</td>\n",
       "      <td>2</td>\n",
       "      <td>The Tagger</td>\n",
       "      <td>24 Sep. 2013</td>\n",
       "      <td>7.5</td>\n",
       "      <td>3818</td>\n",
       "      <td>When Jake arrives late for work, Captain Holt ...</td>\n",
       "      <td>1</td>\n",
       "      <td>2</td>\n",
       "      <td>2</td>\n",
       "      <td>The Tagger</td>\n",
       "      <td>Craig Zisk</td>\n",
       "      <td>Norm Hiscock</td>\n",
       "      <td>2013-09-24</td>\n",
       "      <td>102.0</td>\n",
       "      <td>4030000.0</td>\n",
       "    </tr>\n",
       "    <tr>\n",
       "      <th>2</th>\n",
       "      <td>1</td>\n",
       "      <td>3</td>\n",
       "      <td>The Slump</td>\n",
       "      <td>1 Oct. 2013</td>\n",
       "      <td>7.6</td>\n",
       "      <td>3576</td>\n",
       "      <td>With a backlog of unsolved cases, Jake finds h...</td>\n",
       "      <td>1</td>\n",
       "      <td>3</td>\n",
       "      <td>3</td>\n",
       "      <td>The Slump</td>\n",
       "      <td>Julie Anne Robinson</td>\n",
       "      <td>Prentice Penny</td>\n",
       "      <td>2013-10-01</td>\n",
       "      <td>105.0</td>\n",
       "      <td>3430000.0</td>\n",
       "    </tr>\n",
       "    <tr>\n",
       "      <th>3</th>\n",
       "      <td>1</td>\n",
       "      <td>4</td>\n",
       "      <td>M.E. Time</td>\n",
       "      <td>8 Oct. 2013</td>\n",
       "      <td>7.7</td>\n",
       "      <td>3458</td>\n",
       "      <td>Jake meets an attractive Medical Examiner, but...</td>\n",
       "      <td>1</td>\n",
       "      <td>4</td>\n",
       "      <td>4</td>\n",
       "      <td>M.E. Time</td>\n",
       "      <td>Troy Miller</td>\n",
       "      <td>Gil Ozeri</td>\n",
       "      <td>2013-10-08</td>\n",
       "      <td>106.0</td>\n",
       "      <td>3340000.0</td>\n",
       "    </tr>\n",
       "    <tr>\n",
       "      <th>4</th>\n",
       "      <td>1</td>\n",
       "      <td>5</td>\n",
       "      <td>The Vulture</td>\n",
       "      <td>15 Oct. 2013</td>\n",
       "      <td>8.0</td>\n",
       "      <td>3353</td>\n",
       "      <td>A detective from Major Crimes takes over Jake'...</td>\n",
       "      <td>1</td>\n",
       "      <td>5</td>\n",
       "      <td>5</td>\n",
       "      <td>The Vulture</td>\n",
       "      <td>Jason Ensler</td>\n",
       "      <td>Laura McCreary</td>\n",
       "      <td>2013-10-15</td>\n",
       "      <td>104.0</td>\n",
       "      <td>3430000.0</td>\n",
       "    </tr>\n",
       "  </tbody>\n",
       "</table>\n",
       "</div>"
      ],
      "text/plain": [
       "   season_x  episode_num      title_x original_air_date_x  imdb_rating  \\\n",
       "0         1            1        Pilot        17 Sep. 2013          7.8   \n",
       "1         1            2   The Tagger        24 Sep. 2013          7.5   \n",
       "2         1            3    The Slump         1 Oct. 2013          7.6   \n",
       "3         1            4    M.E. Time         8 Oct. 2013          7.7   \n",
       "4         1            5  The Vulture        15 Oct. 2013          8.0   \n",
       "\n",
       "   total_votes                                               desc  season_y  \\\n",
       "0         4678  Detective Jake Peralta finds his work scrutini...         1   \n",
       "1         3818  When Jake arrives late for work, Captain Holt ...         1   \n",
       "2         3576  With a backlog of unsolved cases, Jake finds h...         1   \n",
       "3         3458  Jake meets an attractive Medical Examiner, but...         1   \n",
       "4         3353  A detective from Major Crimes takes over Jake'...         1   \n",
       "\n",
       "   episode_num_in_season  episode_num_overall      title_y  \\\n",
       "0                      1                    1        Pilot   \n",
       "1                      2                    2   The Tagger   \n",
       "2                      3                    3    The Slump   \n",
       "3                      4                    4    M.E. Time   \n",
       "4                      5                    5  The Vulture   \n",
       "\n",
       "                      directed_by                written_by  \\\n",
       "0  Phil Lord & Christopher Miller  Dan Goor & Michael Schur   \n",
       "1                      Craig Zisk              Norm Hiscock   \n",
       "2             Julie Anne Robinson            Prentice Penny   \n",
       "3                     Troy Miller                 Gil Ozeri   \n",
       "4                    Jason Ensler            Laura McCreary   \n",
       "\n",
       "  original_air_date_y  prod_code  us_viewers  \n",
       "0          2013-09-17      101.0   6170000.0  \n",
       "1          2013-09-24      102.0   4030000.0  \n",
       "2          2013-10-01      105.0   3430000.0  \n",
       "3          2013-10-08      106.0   3340000.0  \n",
       "4          2013-10-15      104.0   3430000.0  "
      ]
     },
     "execution_count": 16,
     "metadata": {},
     "output_type": "execute_result"
    }
   ],
   "source": [
    "#joining both tables into one, based on the indexed values\n",
    "Total_Data_Combine = pd.merge(IMDB_Raw,Episodes_Raw, left_index=True, right_index=True)\n",
    "Total_Data_Combine.head()"
   ]
  },
  {
   "cell_type": "code",
   "execution_count": 17,
   "id": "cf344b24",
   "metadata": {},
   "outputs": [
    {
     "data": {
      "text/plain": [
       "(153, 16)"
      ]
     },
     "execution_count": 17,
     "metadata": {},
     "output_type": "execute_result"
    }
   ],
   "source": [
    "# The original shape of each table was 153*9, 153*7, meaning there are some duplicate columns, but whats present should be useful for our purposes\n",
    "Total_Data_Combine.shape"
   ]
  },
  {
   "cell_type": "code",
   "execution_count": 18,
   "id": "911ecd1b",
   "metadata": {},
   "outputs": [
    {
     "name": "stdout",
     "output_type": "stream",
     "text": [
      "season_x                 0\n",
      "episode_num              0\n",
      "title_x                  0\n",
      "original_air_date_x      0\n",
      "imdb_rating              0\n",
      "total_votes              0\n",
      "desc                     0\n",
      "season_y                 0\n",
      "episode_num_in_season    0\n",
      "episode_num_overall      0\n",
      "title_y                  0\n",
      "directed_by              0\n",
      "written_by               0\n",
      "original_air_date_y      0\n",
      "prod_code                0\n",
      "us_viewers               0\n",
      "dtype: int64\n"
     ]
    }
   ],
   "source": [
    "# I will now check if to see if there are any nulls\n",
    "print(Total_Data_Combine.isna().sum())"
   ]
  },
  {
   "cell_type": "code",
   "execution_count": 19,
   "id": "5db63abb",
   "metadata": {},
   "outputs": [],
   "source": [
    "#thankfully the dataset is complete, but to illustrate how I would deal with null values, I will code as if there are"
   ]
  },
  {
   "cell_type": "code",
   "execution_count": 20,
   "id": "52e2d2a3",
   "metadata": {},
   "outputs": [
    {
     "ename": "AttributeError",
     "evalue": "'list' object has no attribute 'fillna'",
     "output_type": "error",
     "traceback": [
      "\u001b[1;31m---------------------------------------------------------------------------\u001b[0m",
      "\u001b[1;31mAttributeError\u001b[0m                            Traceback (most recent call last)",
      "\u001b[1;32m<ipython-input-20-da4c335f240b>\u001b[0m in \u001b[0;36m<module>\u001b[1;34m\u001b[0m\n\u001b[0;32m      1\u001b[0m \u001b[1;31m# I will be looking at the \"directed_by\" column. These are obviously strings, so it is easiest to replace them with a unique character, and if not a large proportion possibly ignored\u001b[0m\u001b[1;33m\u001b[0m\u001b[1;33m\u001b[0m\u001b[1;33m\u001b[0m\u001b[0m\n\u001b[1;32m----> 2\u001b[1;33m \u001b[0mTotal_Data_Combine\u001b[0m\u001b[1;33m[\u001b[0m\u001b[1;34m\"written_by\"\u001b[0m\u001b[1;33m]\u001b[0m\u001b[1;33m,\u001b[0m\u001b[1;33m[\u001b[0m\u001b[1;34m\"directed_by\"\u001b[0m\u001b[1;33m]\u001b[0m\u001b[1;33m.\u001b[0m\u001b[0mfillna\u001b[0m\u001b[1;33m(\u001b[0m\u001b[1;34m\"AAA\"\u001b[0m\u001b[1;33m,\u001b[0m \u001b[0minplace\u001b[0m \u001b[1;33m=\u001b[0m \u001b[1;32mTrue\u001b[0m\u001b[1;33m)\u001b[0m\u001b[1;33m\u001b[0m\u001b[1;33m\u001b[0m\u001b[0m\n\u001b[0m",
      "\u001b[1;31mAttributeError\u001b[0m: 'list' object has no attribute 'fillna'"
     ]
    }
   ],
   "source": [
    "# I will be looking at the \"directed_by\" column. These are obviously strings, so it is easiest to replace them with a unique character, and if not a large proportion possibly ignored\n",
    "Total_Data_Combine[\"written_by\"],[\"directed_by\"].fillna(\"AAA\", inplace = True)"
   ]
  },
  {
   "cell_type": "code",
   "execution_count": 21,
   "id": "59f87d7f",
   "metadata": {},
   "outputs": [
    {
     "data": {
      "text/plain": [
       "season\n",
       "1    22\n",
       "2    23\n",
       "3    23\n",
       "4    22\n",
       "5    22\n",
       "6    18\n",
       "7    13\n",
       "8    10\n",
       "Name: episode_num_in_season, dtype: int64"
      ]
     },
     "execution_count": 21,
     "metadata": {},
     "output_type": "execute_result"
    }
   ],
   "source": [
    "#We will be comparing seasons later on, so it is relevant to look at the size of each season, to see if they are comparable\n",
    "Episodes_Raw.groupby(['season']).count()['episode_num_in_season']"
   ]
  },
  {
   "cell_type": "code",
   "execution_count": 22,
   "id": "836b91c6",
   "metadata": {},
   "outputs": [
    {
     "name": "stdout",
     "output_type": "stream",
     "text": [
      "(153, 11)\n"
     ]
    },
    {
     "data": {
      "text/html": [
       "<div>\n",
       "<style scoped>\n",
       "    .dataframe tbody tr th:only-of-type {\n",
       "        vertical-align: middle;\n",
       "    }\n",
       "\n",
       "    .dataframe tbody tr th {\n",
       "        vertical-align: top;\n",
       "    }\n",
       "\n",
       "    .dataframe thead th {\n",
       "        text-align: right;\n",
       "    }\n",
       "</style>\n",
       "<table border=\"1\" class=\"dataframe\">\n",
       "  <thead>\n",
       "    <tr style=\"text-align: right;\">\n",
       "      <th></th>\n",
       "      <th>imdb_rating</th>\n",
       "      <th>total_votes</th>\n",
       "      <th>season_y</th>\n",
       "      <th>episode_num_in_season</th>\n",
       "      <th>episode_num_overall</th>\n",
       "      <th>title_y</th>\n",
       "      <th>directed_by</th>\n",
       "      <th>written_by</th>\n",
       "      <th>original_air_date_y</th>\n",
       "      <th>prod_code</th>\n",
       "      <th>us_viewers</th>\n",
       "    </tr>\n",
       "  </thead>\n",
       "  <tbody>\n",
       "    <tr>\n",
       "      <th>0</th>\n",
       "      <td>7.8</td>\n",
       "      <td>4678</td>\n",
       "      <td>1</td>\n",
       "      <td>1</td>\n",
       "      <td>1</td>\n",
       "      <td>Pilot</td>\n",
       "      <td>Phil Lord &amp; Christopher Miller</td>\n",
       "      <td>Dan Goor &amp; Michael Schur</td>\n",
       "      <td>2013-09-17</td>\n",
       "      <td>101.0</td>\n",
       "      <td>6170000.0</td>\n",
       "    </tr>\n",
       "    <tr>\n",
       "      <th>1</th>\n",
       "      <td>7.5</td>\n",
       "      <td>3818</td>\n",
       "      <td>1</td>\n",
       "      <td>2</td>\n",
       "      <td>2</td>\n",
       "      <td>The Tagger</td>\n",
       "      <td>Craig Zisk</td>\n",
       "      <td>Norm Hiscock</td>\n",
       "      <td>2013-09-24</td>\n",
       "      <td>102.0</td>\n",
       "      <td>4030000.0</td>\n",
       "    </tr>\n",
       "    <tr>\n",
       "      <th>2</th>\n",
       "      <td>7.6</td>\n",
       "      <td>3576</td>\n",
       "      <td>1</td>\n",
       "      <td>3</td>\n",
       "      <td>3</td>\n",
       "      <td>The Slump</td>\n",
       "      <td>Julie Anne Robinson</td>\n",
       "      <td>Prentice Penny</td>\n",
       "      <td>2013-10-01</td>\n",
       "      <td>105.0</td>\n",
       "      <td>3430000.0</td>\n",
       "    </tr>\n",
       "    <tr>\n",
       "      <th>3</th>\n",
       "      <td>7.7</td>\n",
       "      <td>3458</td>\n",
       "      <td>1</td>\n",
       "      <td>4</td>\n",
       "      <td>4</td>\n",
       "      <td>M.E. Time</td>\n",
       "      <td>Troy Miller</td>\n",
       "      <td>Gil Ozeri</td>\n",
       "      <td>2013-10-08</td>\n",
       "      <td>106.0</td>\n",
       "      <td>3340000.0</td>\n",
       "    </tr>\n",
       "    <tr>\n",
       "      <th>4</th>\n",
       "      <td>8.0</td>\n",
       "      <td>3353</td>\n",
       "      <td>1</td>\n",
       "      <td>5</td>\n",
       "      <td>5</td>\n",
       "      <td>The Vulture</td>\n",
       "      <td>Jason Ensler</td>\n",
       "      <td>Laura McCreary</td>\n",
       "      <td>2013-10-15</td>\n",
       "      <td>104.0</td>\n",
       "      <td>3430000.0</td>\n",
       "    </tr>\n",
       "  </tbody>\n",
       "</table>\n",
       "</div>"
      ],
      "text/plain": [
       "   imdb_rating  total_votes  season_y  episode_num_in_season  \\\n",
       "0          7.8         4678         1                      1   \n",
       "1          7.5         3818         1                      2   \n",
       "2          7.6         3576         1                      3   \n",
       "3          7.7         3458         1                      4   \n",
       "4          8.0         3353         1                      5   \n",
       "\n",
       "   episode_num_overall      title_y                     directed_by  \\\n",
       "0                    1        Pilot  Phil Lord & Christopher Miller   \n",
       "1                    2   The Tagger                      Craig Zisk   \n",
       "2                    3    The Slump             Julie Anne Robinson   \n",
       "3                    4    M.E. Time                     Troy Miller   \n",
       "4                    5  The Vulture                    Jason Ensler   \n",
       "\n",
       "                 written_by original_air_date_y  prod_code  us_viewers  \n",
       "0  Dan Goor & Michael Schur          2013-09-17      101.0   6170000.0  \n",
       "1              Norm Hiscock          2013-09-24      102.0   4030000.0  \n",
       "2            Prentice Penny          2013-10-01      105.0   3430000.0  \n",
       "3                 Gil Ozeri          2013-10-08      106.0   3340000.0  \n",
       "4            Laura McCreary          2013-10-15      104.0   3430000.0  "
      ]
     },
     "execution_count": 22,
     "metadata": {},
     "output_type": "execute_result"
    }
   ],
   "source": [
    "#There are a lot of duplicate columns, I will delete them so the table is clearer\n",
    "Data_Combine = Total_Data_Combine.drop(Total_Data_Combine.columns[[0,1,2,3,6]], axis=1)\n",
    "print(Data_Combine.shape)\n",
    "Data_Combine.head()"
   ]
  },
  {
   "cell_type": "code",
   "execution_count": 23,
   "id": "3062a72d",
   "metadata": {},
   "outputs": [
    {
     "data": {
      "text/html": [
       "<div>\n",
       "<style scoped>\n",
       "    .dataframe tbody tr th:only-of-type {\n",
       "        vertical-align: middle;\n",
       "    }\n",
       "\n",
       "    .dataframe tbody tr th {\n",
       "        vertical-align: top;\n",
       "    }\n",
       "\n",
       "    .dataframe thead th {\n",
       "        text-align: right;\n",
       "    }\n",
       "</style>\n",
       "<table border=\"1\" class=\"dataframe\">\n",
       "  <thead>\n",
       "    <tr style=\"text-align: right;\">\n",
       "      <th></th>\n",
       "      <th>imdb_rating</th>\n",
       "      <th>total_votes</th>\n",
       "      <th>season_y</th>\n",
       "      <th>episode_num_in_season</th>\n",
       "      <th>episode_num_overall</th>\n",
       "      <th>title_y</th>\n",
       "      <th>directed_by</th>\n",
       "      <th>written_by</th>\n",
       "      <th>original_air_date_y</th>\n",
       "      <th>prod_code</th>\n",
       "      <th>us_viewers</th>\n",
       "    </tr>\n",
       "  </thead>\n",
       "  <tbody>\n",
       "    <tr>\n",
       "      <th>148</th>\n",
       "      <td>6.8</td>\n",
       "      <td>1489</td>\n",
       "      <td>8</td>\n",
       "      <td>6</td>\n",
       "      <td>149</td>\n",
       "      <td>The Set Up</td>\n",
       "      <td>Maggie Carey</td>\n",
       "      <td>Jess Dweck &amp; Nick Perdue</td>\n",
       "      <td>2021-08-26</td>\n",
       "      <td>805.0</td>\n",
       "      <td>1450000.0</td>\n",
       "    </tr>\n",
       "    <tr>\n",
       "      <th>149</th>\n",
       "      <td>8.1</td>\n",
       "      <td>1244</td>\n",
       "      <td>8</td>\n",
       "      <td>7</td>\n",
       "      <td>150</td>\n",
       "      <td>Game of Boyles</td>\n",
       "      <td>Thembi Banks</td>\n",
       "      <td>Paul Welsh &amp; Madeline Walter</td>\n",
       "      <td>2021-09-02</td>\n",
       "      <td>806.0</td>\n",
       "      <td>1840000.0</td>\n",
       "    </tr>\n",
       "    <tr>\n",
       "      <th>150</th>\n",
       "      <td>8.2</td>\n",
       "      <td>1178</td>\n",
       "      <td>8</td>\n",
       "      <td>8</td>\n",
       "      <td>151</td>\n",
       "      <td>Renewal</td>\n",
       "      <td>Beth McCarthy Miller</td>\n",
       "      <td>Stephanie A. Ritter &amp; Beau Rawlins</td>\n",
       "      <td>2021-09-02</td>\n",
       "      <td>807.0</td>\n",
       "      <td>1310000.0</td>\n",
       "    </tr>\n",
       "    <tr>\n",
       "      <th>151</th>\n",
       "      <td>9.4</td>\n",
       "      <td>2088</td>\n",
       "      <td>8</td>\n",
       "      <td>9</td>\n",
       "      <td>152</td>\n",
       "      <td>The Last Day Pt 1</td>\n",
       "      <td>Linda Mendoza</td>\n",
       "      <td>Luke Del Tredici &amp; Audrey E. Goodman</td>\n",
       "      <td>2021-09-16</td>\n",
       "      <td>809.0</td>\n",
       "      <td>1880000.0</td>\n",
       "    </tr>\n",
       "    <tr>\n",
       "      <th>152</th>\n",
       "      <td>9.6</td>\n",
       "      <td>2636</td>\n",
       "      <td>8</td>\n",
       "      <td>10</td>\n",
       "      <td>153</td>\n",
       "      <td>The Last Day Pt 2</td>\n",
       "      <td>Claire Scanlon</td>\n",
       "      <td>Dan Goor</td>\n",
       "      <td>2021-09-16</td>\n",
       "      <td>810.0</td>\n",
       "      <td>1880000.0</td>\n",
       "    </tr>\n",
       "  </tbody>\n",
       "</table>\n",
       "</div>"
      ],
      "text/plain": [
       "     imdb_rating  total_votes  season_y  episode_num_in_season  \\\n",
       "148          6.8         1489         8                      6   \n",
       "149          8.1         1244         8                      7   \n",
       "150          8.2         1178         8                      8   \n",
       "151          9.4         2088         8                      9   \n",
       "152          9.6         2636         8                     10   \n",
       "\n",
       "     episode_num_overall            title_y           directed_by  \\\n",
       "148                  149         The Set Up          Maggie Carey   \n",
       "149                  150     Game of Boyles          Thembi Banks   \n",
       "150                  151            Renewal  Beth McCarthy Miller   \n",
       "151                  152  The Last Day Pt 1         Linda Mendoza   \n",
       "152                  153  The Last Day Pt 2        Claire Scanlon   \n",
       "\n",
       "                               written_by original_air_date_y  prod_code  \\\n",
       "148              Jess Dweck & Nick Perdue          2021-08-26      805.0   \n",
       "149          Paul Welsh & Madeline Walter          2021-09-02      806.0   \n",
       "150    Stephanie A. Ritter & Beau Rawlins          2021-09-02      807.0   \n",
       "151  Luke Del Tredici & Audrey E. Goodman          2021-09-16      809.0   \n",
       "152                              Dan Goor          2021-09-16      810.0   \n",
       "\n",
       "     us_viewers  \n",
       "148   1450000.0  \n",
       "149   1840000.0  \n",
       "150   1310000.0  \n",
       "151   1880000.0  \n",
       "152   1880000.0  "
      ]
     },
     "execution_count": 23,
     "metadata": {},
     "output_type": "execute_result"
    }
   ],
   "source": [
    "Data_Combine.tail()"
   ]
  },
  {
   "cell_type": "code",
   "execution_count": null,
   "id": "01a58739",
   "metadata": {},
   "outputs": [],
   "source": []
  },
  {
   "cell_type": "code",
   "execution_count": 64,
   "id": "e3719073",
   "metadata": {},
   "outputs": [
    {
     "name": "stdout",
     "output_type": "stream",
     "text": [
      "<bound method DataFrame.count of      imdb_rating  total_votes  season_y  episode_num_in_season  \\\n",
      "126          NaN          NaN       NaN                    NaN   \n",
      "\n",
      "     episode_num_overall title_y     directed_by written_by  \\\n",
      "126                  NaN     NaN  Melissa Fumero        NaN   \n",
      "\n",
      "    original_air_date_y  prod_code  us_viewers  \n",
      "126                 NaN        NaN         NaN  >\n",
      "season_y\n",
      "1    3978182.0\n",
      "2    3538261.0\n",
      "3    2733043.0\n",
      "4    2109545.0\n",
      "5    1759091.0\n",
      "6    2240556.0\n",
      "7    2063077.0\n",
      "8    1695000.0\n",
      "Name: us_viewers, dtype: float64\n",
      "There were 1650000.0 views in this episode in the US\n",
      "This Actor Directed in Season 6\n",
      "\n",
      "season_y\n",
      "1    8.040909\n",
      "2    8.126087\n",
      "3    8.095652\n",
      "4    8.177273\n",
      "5    8.322727\n",
      "6    8.050000\n",
      "7    8.307692\n",
      "8    7.760000\n",
      "Name: imdb_rating, dtype: float64\n",
      "This episode was rated  6.4\n"
     ]
    }
   ],
   "source": [
    "## Some of the main cast have directed an episode. \n",
    "#In order to see if these episodes were well received, I will first check to see\n",
    "#if that actor directed. My samples are Melissa Fumero, Joe Lo Truglio, and Stephanie Beatriz \n",
    "# In order to see if these episodes were well received, \n",
    "#I will create a code, whereby the actors name can be inputted, \n",
    "# and the views of their episode and the average of that season are printed\n",
    "def my_func(a):\n",
    "    print(Data_Combine[Data_Combine.isin([a])].dropna(how='all').count)\n",
    "    print(round(Data_Combine.groupby('season_y')['us_viewers'].mean()))\n",
    "    print(\"There were\" , Data_Combine.loc[Data_Combine['directed_by'] == a, 'us_viewers'].iloc[0], \"views in this episode in the US\")\n",
    "    print(\"This Actor Directed in Season\" ,Data_Combine.loc[Data_Combine['directed_by'] == a, 'season_y'].iloc[0])\n",
    "    print(\"\")\n",
    "    print(Data_Combine.groupby('season_y')['imdb_rating'].mean())\n",
    "    print(\"This episode was rated \" , Data_Combine.loc[Data_Combine['directed_by'] == a, 'imdb_rating'].iloc[0])\n",
    "        \n",
    "my_func('Melissa Fumero')"
   ]
  },
  {
   "cell_type": "code",
   "execution_count": 65,
   "id": "8b4a172e",
   "metadata": {},
   "outputs": [
    {
     "name": "stdout",
     "output_type": "stream",
     "text": [
      "<bound method DataFrame.count of      imdb_rating  total_votes  season_y  episode_num_in_season  \\\n",
      "124          NaN          NaN       NaN                    NaN   \n",
      "\n",
      "     episode_num_overall title_y     directed_by written_by  \\\n",
      "124                  NaN     NaN  Joe Lo Truglio        NaN   \n",
      "\n",
      "    original_air_date_y  prod_code  us_viewers  \n",
      "124                 NaN        NaN         NaN  >\n",
      "season_y\n",
      "1    3978182.0\n",
      "2    3538261.0\n",
      "3    2733043.0\n",
      "4    2109545.0\n",
      "5    1759091.0\n",
      "6    2240556.0\n",
      "7    2063077.0\n",
      "8    1695000.0\n",
      "Name: us_viewers, dtype: float64\n",
      "There were 1780000.0 views in this episode in the US\n",
      "This Actor Directed in Season 6\n",
      "\n",
      "season_y\n",
      "1    8.040909\n",
      "2    8.126087\n",
      "3    8.095652\n",
      "4    8.177273\n",
      "5    8.322727\n",
      "6    8.050000\n",
      "7    8.307692\n",
      "8    7.760000\n",
      "Name: imdb_rating, dtype: float64\n",
      "This episode was rated  7.9\n"
     ]
    }
   ],
   "source": [
    "# Some of the main cast have directed an episode. \n",
    "#In order to see if these episodes were well received, I will first check to see\n",
    "#if that actor directed. My samples are Melissa Fumero, Joe Lo Truglio, and Stephanie Beatriz\n",
    "my_func('Joe Lo Truglio')"
   ]
  },
  {
   "cell_type": "code",
   "execution_count": 66,
   "id": "f47c8e71",
   "metadata": {},
   "outputs": [
    {
     "name": "stdout",
     "output_type": "stream",
     "text": [
      "<bound method DataFrame.count of      imdb_rating  total_votes  season_y  episode_num_in_season  \\\n",
      "119          NaN          NaN       NaN                    NaN   \n",
      "\n",
      "     episode_num_overall title_y        directed_by written_by  \\\n",
      "119                  NaN     NaN  Stephanie Beatriz        NaN   \n",
      "\n",
      "    original_air_date_y  prod_code  us_viewers  \n",
      "119                 NaN        NaN         NaN  >\n",
      "season_y\n",
      "1    3978182.0\n",
      "2    3538261.0\n",
      "3    2733043.0\n",
      "4    2109545.0\n",
      "5    1759091.0\n",
      "6    2240556.0\n",
      "7    2063077.0\n",
      "8    1695000.0\n",
      "Name: us_viewers, dtype: float64\n",
      "There were 2360000.0 views in this episode in the US\n",
      "This Actor Directed in Season 6\n",
      "\n",
      "season_y\n",
      "1    8.040909\n",
      "2    8.126087\n",
      "3    8.095652\n",
      "4    8.177273\n",
      "5    8.322727\n",
      "6    8.050000\n",
      "7    8.307692\n",
      "8    7.760000\n",
      "Name: imdb_rating, dtype: float64\n",
      "This episode was rated  7.0\n"
     ]
    }
   ],
   "source": [
    "# Some of the main cast have directed an episode. \n",
    "#In order to see if these episodes were well received, I will first check to see\n",
    "#if that actor directed. My samples are Melissa Fumero, Joe Lo Truglio, and Stephanie Beatriz\n",
    "my_func('Stephanie Beatriz')"
   ]
  },
  {
   "cell_type": "code",
   "execution_count": null,
   "id": "1d842a72",
   "metadata": {},
   "outputs": [],
   "source": []
  },
  {
   "cell_type": "code",
   "execution_count": 27,
   "id": "fd16d358",
   "metadata": {},
   "outputs": [],
   "source": [
    "# The show was cancelled after its 5th season by FOX, but almost immediatelly \n",
    "# it was picked up by NBC. I will see if this was justified by Fox, or by NBC\n",
    "\n",
    "#Create a list of the average season\n",
    "Season_Views = (round(Data_Combine.groupby('season_y')['us_viewers'].mean()))"
   ]
  },
  {
   "cell_type": "code",
   "execution_count": 28,
   "id": "b9902dda",
   "metadata": {},
   "outputs": [
    {
     "name": "stdout",
     "output_type": "stream",
     "text": [
      "season_y\n",
      "1    3978182.0\n",
      "2    3538261.0\n",
      "3    2733043.0\n",
      "4    2109545.0\n",
      "5    1759091.0\n",
      "6    2240556.0\n",
      "7    2063077.0\n",
      "8    1695000.0\n",
      "Name: us_viewers, dtype: float64\n"
     ]
    }
   ],
   "source": [
    "print(Season_Views)"
   ]
  },
  {
   "cell_type": "code",
   "execution_count": 29,
   "id": "8bbc0335",
   "metadata": {},
   "outputs": [],
   "source": [
    "#Convert this list to a numpy array to work with\n",
    "Season_Views_numpy = Season_Views.to_numpy()"
   ]
  },
  {
   "cell_type": "code",
   "execution_count": 30,
   "id": "c09c2766",
   "metadata": {},
   "outputs": [
    {
     "name": "stdout",
     "output_type": "stream",
     "text": [
      "[3978182. 3538261. 2733043. 2109545. 1759091. 2240556. 2063077. 1695000.]\n"
     ]
    }
   ],
   "source": [
    "print(Season_Views_numpy)"
   ]
  },
  {
   "cell_type": "code",
   "execution_count": 60,
   "id": "0379f8d0",
   "metadata": {},
   "outputs": [
    {
     "data": {
      "text/plain": [
       "86.0"
      ]
     },
     "execution_count": 60,
     "metadata": {},
     "output_type": "execute_result"
    }
   ],
   "source": [
    "#Check to see how many of the seasons had higher views that season 5\n",
    "round(np.count_nonzero(Season_Views_numpy > Season_Views_numpy[4])/7*100,0)"
   ]
  },
  {
   "cell_type": "code",
   "execution_count": 61,
   "id": "881f9500",
   "metadata": {},
   "outputs": [
    {
     "data": {
      "text/plain": [
       "43.0"
      ]
     },
     "execution_count": 61,
     "metadata": {},
     "output_type": "execute_result"
    }
   ],
   "source": [
    "#Check to see how many of the seasons had higher views that season 6\n",
    "round(np.count_nonzero(Season_Views_numpy > Season_Views_numpy[5])/7*100,0)"
   ]
  },
  {
   "cell_type": "code",
   "execution_count": 62,
   "id": "c4f77366",
   "metadata": {},
   "outputs": [
    {
     "data": {
      "text/plain": [
       "71.0"
      ]
     },
     "execution_count": 62,
     "metadata": {},
     "output_type": "execute_result"
    }
   ],
   "source": [
    "#Check to see how many of the seasons had higher views that season 7\n",
    "round(np.count_nonzero(Season_Views_numpy > Season_Views_numpy[6])/7*100,0)"
   ]
  },
  {
   "cell_type": "code",
   "execution_count": 63,
   "id": "4645e27a",
   "metadata": {},
   "outputs": [
    {
     "data": {
      "text/plain": [
       "100.0"
      ]
     },
     "execution_count": 63,
     "metadata": {},
     "output_type": "execute_result"
    }
   ],
   "source": [
    "#Check to see how many of the seasons had higher views that season 8\n",
    "round(np.count_nonzero(Season_Views_numpy > Season_Views_numpy[-1])/7*100,0)"
   ]
  },
  {
   "cell_type": "code",
   "execution_count": 41,
   "id": "39346219",
   "metadata": {},
   "outputs": [
    {
     "data": {
      "text/plain": [
       "[Text(0.5, 1.0, 'Progression of Viewers')]"
      ]
     },
     "execution_count": 41,
     "metadata": {},
     "output_type": "execute_result"
    },
    {
     "data": {
      "image/png": "[encoded data removed]",
      "text/plain": [
       "<Figure size 432x288 with 1 Axes>"
      ]
     },
     "metadata": {
      "needs_background": "light"
     },
     "output_type": "display_data"
    }
   ],
   "source": [
    "#I will start my insights by getting a feel for the reception of the show over the seasons\n",
    "sns.lineplot(data=Data_Combine, x=\"episode_num_overall\", y=\"us_viewers\", hue=\"season_y\").set(title='Progression of Viewers')"
   ]
  },
  {
   "cell_type": "code",
   "execution_count": 44,
   "id": "d222f9f9",
   "metadata": {},
   "outputs": [
    {
     "data": {
      "text/plain": [
       "[Text(0.5, 1.0, 'Engagement of Viewers')]"
      ]
     },
     "execution_count": 44,
     "metadata": {},
     "output_type": "execute_result"
    },
    {
     "data": {
      "image/png": "[encoded data removed]",
      "text/plain": [
       "<Figure size 432x288 with 1 Axes>"
      ]
     },
     "metadata": {
      "needs_background": "light"
     },
     "output_type": "display_data"
    }
   ],
   "source": [
    "#I will start my insights by getting a feel for the reception of the show over the seasons\n",
    "sns.lineplot(data=Data_Combine, x=\"episode_num_overall\", y=\"total_votes\", hue=\"season_y\").set(title='Engagement of Viewers')"
   ]
  },
  {
   "cell_type": "code",
   "execution_count": 38,
   "id": "5c427e19",
   "metadata": {},
   "outputs": [
    {
     "data": {
      "image/png": "[encoded data removed]",
      "text/plain": [
       "<Figure size 432x288 with 1 Axes>"
      ]
     },
     "metadata": {
      "needs_background": "light"
     },
     "output_type": "display_data"
    }
   ],
   "source": [
    "#horizontal barplot to see the length of each season\n",
    "plt.barh(y=Data_Combine.season_y, width=Data_Combine.episode_num_in_season)\n",
    "plt.grid(b=True, color='grey', linestyle='-.', linewidth=0.5, alpha=0.2)\n",
    "plt.title('Episodes in Each Season')\n",
    "plt.show()"
   ]
  },
  {
   "cell_type": "code",
   "execution_count": 37,
   "id": "7051a551",
   "metadata": {},
   "outputs": [
    {
     "data": {
      "image/png": "[encoded data removed]",
      "text/plain": [
       "<Figure size 432x288 with 1 Axes>"
      ]
     },
     "metadata": {
      "needs_background": "light"
     },
     "output_type": "display_data"
    }
   ],
   "source": [
    "plt.scatter( x=Data_Combine.us_viewers, y=Data_Combine.imdb_rating, c=Data_Combine.season_y, alpha=0.5)\n",
    "plt.title(\"Trend of Viewers\")\n",
    "plt.xlabel(\"Viewers in US (millions)\")\n",
    "plt.ylabel(\"imdb_rating\")\n",
    "plt.show()"
   ]
  },
  {
   "cell_type": "code",
   "execution_count": null,
   "id": "6b03c2d4",
   "metadata": {},
   "outputs": [],
   "source": []
  },
  {
   "cell_type": "code",
   "execution_count": null,
   "id": "2a8898ab",
   "metadata": {},
   "outputs": [],
   "source": []
  },
  {
   "cell_type": "code",
   "execution_count": null,
   "id": "1a2cde2d",
   "metadata": {},
   "outputs": [],
   "source": []
  },
  {
   "cell_type": "code",
   "execution_count": null,
   "id": "8047b9af",
   "metadata": {},
   "outputs": [],
   "source": []
  }
 ],
 "metadata": {
  "celltoolbar": "Raw Cell Format",
  "kernelspec": {
   "display_name": "Python 3",
   "language": "python",
   "name": "python3"
  },
  "language_info": {
   "codemirror_mode": {
    "name": "ipython",
    "version": 3
   },
   "file_extension": ".py",
   "mimetype": "text/x-python",
   "name": "python",
   "nbconvert_exporter": "python",
   "pygments_lexer": "ipython3",
   "version": "3.8.8"
  }
 },
 "nbformat": 4,
 "nbformat_minor": 5
}
